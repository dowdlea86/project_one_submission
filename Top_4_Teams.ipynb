{
 "cells": [
  {
   "cell_type": "markdown",
   "metadata": {},
   "source": [
    "# New Python Library: Folium "
   ]
  },
  {
   "cell_type": "code",
   "execution_count": 3,
   "metadata": {},
   "outputs": [],
   "source": [
    "# Initial Imports\n",
    "import folium "
   ]
  },
  {
   "cell_type": "markdown",
   "metadata": {},
   "source": [
    "### Folium Description:\n",
    "Python Library used in geospatial data visualisation. "
   ]
  },
  {
   "cell_type": "code",
   "execution_count": 4,
   "metadata": {},
   "outputs": [
    {
     "ename": "AttributeError",
     "evalue": "module 'folium' has no attribute 'Map'",
     "output_type": "error",
     "traceback": [
      "\u001b[0;31m---------------------------------------------------------------------------\u001b[0m",
      "\u001b[0;31mAttributeError\u001b[0m                            Traceback (most recent call last)",
      "\u001b[0;32m<ipython-input-4-8edaa278b5ef>\u001b[0m in \u001b[0;36m<module>\u001b[0;34m\u001b[0m\n\u001b[1;32m      2\u001b[0m \u001b[0;31m#(French, English, Italian, Spanish, & German)\u001b[0m\u001b[0;34m\u001b[0m\u001b[0;34m\u001b[0m\u001b[0;34m\u001b[0m\u001b[0m\n\u001b[1;32m      3\u001b[0m \u001b[0;34m\u001b[0m\u001b[0m\n\u001b[0;32m----> 4\u001b[0;31m \u001b[0mm\u001b[0m \u001b[0;34m=\u001b[0m \u001b[0mfolium\u001b[0m\u001b[0;34m.\u001b[0m\u001b[0mMap\u001b[0m\u001b[0;34m(\u001b[0m\u001b[0mlocation\u001b[0m\u001b[0;34m=\u001b[0m\u001b[0;34m[\u001b[0m\u001b[0;36m48.5260\u001b[0m\u001b[0;34m,\u001b[0m \u001b[0;36m10.2551\u001b[0m\u001b[0;34m]\u001b[0m\u001b[0;34m,\u001b[0m \u001b[0mzoom_start\u001b[0m\u001b[0;34m=\u001b[0m\u001b[0;36m5\u001b[0m\u001b[0;34m)\u001b[0m\u001b[0;34m\u001b[0m\u001b[0;34m\u001b[0m\u001b[0m\n\u001b[0m",
      "\u001b[0;31mAttributeError\u001b[0m: module 'folium' has no attribute 'Map'"
     ]
    }
   ],
   "source": [
    "# Create a vizualization to analyze top 4 teams in each major European league for the 2013-2014 season\n",
    "#(French, English, Italian, Spanish, & German)\n",
    "\n",
    "m = folium.Map(location=[48.5260, 10.2551], zoom_start=5)"
   ]
  },
  {
   "cell_type": "code",
   "execution_count": 5,
   "metadata": {},
   "outputs": [
    {
     "ename": "AttributeError",
     "evalue": "module 'folium' has no attribute 'Marker'",
     "output_type": "error",
     "traceback": [
      "\u001b[0;31m---------------------------------------------------------------------------\u001b[0m",
      "\u001b[0;31mAttributeError\u001b[0m                            Traceback (most recent call last)",
      "\u001b[0;32m<ipython-input-5-d8c18d80b141>\u001b[0m in \u001b[0;36m<module>\u001b[0;34m\u001b[0m\n\u001b[1;32m      2\u001b[0m \u001b[0;34m\u001b[0m\u001b[0m\n\u001b[1;32m      3\u001b[0m \u001b[0mtooltip\u001b[0m \u001b[0;34m=\u001b[0m \u001b[0;34m\"Paris Saint-Germain F.C.\"\u001b[0m\u001b[0;34m\u001b[0m\u001b[0;34m\u001b[0m\u001b[0m\n\u001b[0;32m----> 4\u001b[0;31m \u001b[0mfolium\u001b[0m\u001b[0;34m.\u001b[0m\u001b[0mMarker\u001b[0m\u001b[0;34m(\u001b[0m\u001b[0mlocation\u001b[0m\u001b[0;34m=\u001b[0m\u001b[0;34m[\u001b[0m\u001b[0;36m48.8414\u001b[0m\u001b[0;34m,\u001b[0m \u001b[0;36m2.2530\u001b[0m\u001b[0;34m]\u001b[0m\u001b[0;34m,\u001b[0m\u001b[0mpopup\u001b[0m\u001b[0;34m=\u001b[0m\u001b[0;34m'<i> Le Parc des Princes </i>'\u001b[0m\u001b[0;34m,\u001b[0m \u001b[0mtooltip\u001b[0m\u001b[0;34m=\u001b[0m\u001b[0mtooltip\u001b[0m\u001b[0;34m,\u001b[0m \u001b[0micon\u001b[0m\u001b[0;34m=\u001b[0m\u001b[0mfolium\u001b[0m\u001b[0;34m.\u001b[0m\u001b[0mIcon\u001b[0m\u001b[0;34m(\u001b[0m\u001b[0mcolor\u001b[0m\u001b[0;34m=\u001b[0m\u001b[0;34m'red'\u001b[0m\u001b[0;34m,\u001b[0m \u001b[0micon\u001b[0m\u001b[0;34m=\u001b[0m\u001b[0;34m'info-sign'\u001b[0m\u001b[0;34m)\u001b[0m\u001b[0;34m)\u001b[0m\u001b[0;34m.\u001b[0m\u001b[0madd_to\u001b[0m\u001b[0;34m(\u001b[0m\u001b[0mm\u001b[0m\u001b[0;34m)\u001b[0m\u001b[0;34m\u001b[0m\u001b[0;34m\u001b[0m\u001b[0m\n\u001b[0m\u001b[1;32m      5\u001b[0m \u001b[0;34m\u001b[0m\u001b[0m\n\u001b[1;32m      6\u001b[0m \u001b[0mtooltip\u001b[0m \u001b[0;34m=\u001b[0m \u001b[0;34m\"Olympique Lyonnais (Lyon)\"\u001b[0m\u001b[0;34m\u001b[0m\u001b[0;34m\u001b[0m\u001b[0m\n",
      "\u001b[0;31mAttributeError\u001b[0m: module 'folium' has no attribute 'Marker'"
     ]
    }
   ],
   "source": [
    "# Plot Top 4 Teams in French League for 2013-2014 season\n",
    "\n",
    "tooltip = \"Paris Saint-Germain F.C.\"\n",
    "folium.Marker(location=[48.8414, 2.2530],popup='<i> Le Parc des Princes </i>', tooltip=tooltip, icon=folium.Icon(color='red', icon='info-sign')).add_to(m)\n",
    "\n",
    "tooltip = \"Olympique Lyonnais (Lyon)\"\n",
    "folium.Marker(location=[45.7653, 4.9820],popup='<i> Parc Olympique Lyonnais (Groupama) </i>', tooltip=tooltip, icon=folium.Icon(color='red', icon='info-sign')).add_to(m)\n",
    "\n",
    "tooltip = \"AS Monaco FC\"\n",
    "folium.Marker(location=[43.7276, 7.4157],popup='<i>  Stade Louis-II </i>', tooltip=tooltip, icon=folium.Icon(color='red', icon='info-sign')).add_to(m)\n",
    "\n",
    "tooltip = \"Olympique de Marseille (Marseille)\"\n",
    "folium.Marker(location=[43.2698, 5.3959],popup='<i> Stade Vélodrome </i>', tooltip=tooltip, icon=folium.Icon(color='red', icon='info-sign')).add_to(m)"
   ]
  },
  {
   "cell_type": "code",
   "execution_count": 6,
   "metadata": {},
   "outputs": [
    {
     "ename": "AttributeError",
     "evalue": "module 'folium' has no attribute 'Marker'",
     "output_type": "error",
     "traceback": [
      "\u001b[0;31m---------------------------------------------------------------------------\u001b[0m",
      "\u001b[0;31mAttributeError\u001b[0m                            Traceback (most recent call last)",
      "\u001b[0;32m<ipython-input-6-aac699a3c1a5>\u001b[0m in \u001b[0;36m<module>\u001b[0;34m\u001b[0m\n\u001b[1;32m      1\u001b[0m \u001b[0;31m# Plot Top 4 Teams in English League for 2013-2014 season\u001b[0m\u001b[0;34m\u001b[0m\u001b[0;34m\u001b[0m\u001b[0;34m\u001b[0m\u001b[0m\n\u001b[1;32m      2\u001b[0m \u001b[0mtooltip\u001b[0m \u001b[0;34m=\u001b[0m \u001b[0;34m\"Manchester United F.C.\"\u001b[0m\u001b[0;34m\u001b[0m\u001b[0;34m\u001b[0m\u001b[0m\n\u001b[0;32m----> 3\u001b[0;31m \u001b[0mfolium\u001b[0m\u001b[0;34m.\u001b[0m\u001b[0mMarker\u001b[0m\u001b[0;34m(\u001b[0m\u001b[0mlocation\u001b[0m\u001b[0;34m=\u001b[0m\u001b[0;34m[\u001b[0m\u001b[0;36m53.4631\u001b[0m\u001b[0;34m,\u001b[0m \u001b[0;34m-\u001b[0m\u001b[0;36m2.2913\u001b[0m\u001b[0;34m]\u001b[0m\u001b[0;34m,\u001b[0m\u001b[0mpopup\u001b[0m\u001b[0;34m=\u001b[0m\u001b[0;34m'<i> Old Trafford </i>'\u001b[0m\u001b[0;34m,\u001b[0m \u001b[0mtooltip\u001b[0m\u001b[0;34m=\u001b[0m\u001b[0mtooltip\u001b[0m\u001b[0;34m,\u001b[0m \u001b[0micon\u001b[0m\u001b[0;34m=\u001b[0m\u001b[0mfolium\u001b[0m\u001b[0;34m.\u001b[0m\u001b[0mIcon\u001b[0m\u001b[0;34m(\u001b[0m\u001b[0mcolor\u001b[0m\u001b[0;34m=\u001b[0m\u001b[0;34m'darkblue'\u001b[0m\u001b[0;34m,\u001b[0m \u001b[0micon\u001b[0m\u001b[0;34m=\u001b[0m\u001b[0;34m'info-sign'\u001b[0m\u001b[0;34m)\u001b[0m\u001b[0;34m)\u001b[0m\u001b[0;34m.\u001b[0m\u001b[0madd_to\u001b[0m\u001b[0;34m(\u001b[0m\u001b[0mm\u001b[0m\u001b[0;34m)\u001b[0m\u001b[0;34m\u001b[0m\u001b[0;34m\u001b[0m\u001b[0m\n\u001b[0m\u001b[1;32m      4\u001b[0m \u001b[0;34m\u001b[0m\u001b[0m\n\u001b[1;32m      5\u001b[0m \u001b[0mtooltip\u001b[0m \u001b[0;34m=\u001b[0m \u001b[0;34m\"Manchester City F.C.\"\u001b[0m\u001b[0;34m\u001b[0m\u001b[0;34m\u001b[0m\u001b[0m\n",
      "\u001b[0;31mAttributeError\u001b[0m: module 'folium' has no attribute 'Marker'"
     ]
    }
   ],
   "source": [
    "# Plot Top 4 Teams in English League for 2013-2014 season \n",
    "tooltip = \"Manchester United F.C.\"\n",
    "folium.Marker(location=[53.4631, -2.2913],popup='<i> Old Trafford </i>', tooltip=tooltip, icon=folium.Icon(color='darkblue', icon='info-sign')).add_to(m)\n",
    "\n",
    "tooltip = \"Manchester City F.C.\"\n",
    "folium.Marker(location=[53.4831, -2.2004],popup='<i> Etihad </i>', tooltip=tooltip, icon=folium.Icon(color='darkblue', icon='info-sign')).add_to(m)\n",
    "\n",
    "tooltip = \"Arsenal F.C.\"\n",
    "folium.Marker(location=[51.5549, 0.1084],popup='<i> Emirates </i>', tooltip=tooltip, icon=folium.Icon(color='darkblue', icon='info-sign')).add_to(m)\n",
    "\n",
    "tooltip = \"Chelsea F.C.\"\n",
    "folium.Marker(location=[51.4817, -0.1910],popup='<i> Stamford Bridge  </i>', tooltip=tooltip, icon=folium.Icon(color='darkblue', icon='info-sign')).add_to(m)"
   ]
  },
  {
   "cell_type": "code",
   "execution_count": 7,
   "metadata": {},
   "outputs": [
    {
     "ename": "AttributeError",
     "evalue": "module 'folium' has no attribute 'Marker'",
     "output_type": "error",
     "traceback": [
      "\u001b[0;31m---------------------------------------------------------------------------\u001b[0m",
      "\u001b[0;31mAttributeError\u001b[0m                            Traceback (most recent call last)",
      "\u001b[0;32m<ipython-input-7-1987917c4887>\u001b[0m in \u001b[0;36m<module>\u001b[0;34m\u001b[0m\n\u001b[1;32m      1\u001b[0m \u001b[0;31m# Plot Top 4 Teams in Spanish League for 2013-2014 season\u001b[0m\u001b[0;34m\u001b[0m\u001b[0;34m\u001b[0m\u001b[0;34m\u001b[0m\u001b[0m\n\u001b[1;32m      2\u001b[0m \u001b[0mtooltip\u001b[0m \u001b[0;34m=\u001b[0m \u001b[0;34m\"FC Barcelona\"\u001b[0m\u001b[0;34m\u001b[0m\u001b[0;34m\u001b[0m\u001b[0m\n\u001b[0;32m----> 3\u001b[0;31m \u001b[0mfolium\u001b[0m\u001b[0;34m.\u001b[0m\u001b[0mMarker\u001b[0m\u001b[0;34m(\u001b[0m\u001b[0;34m[\u001b[0m\u001b[0;36m41.3809\u001b[0m\u001b[0;34m,\u001b[0m \u001b[0;36m2.1228\u001b[0m\u001b[0;34m]\u001b[0m\u001b[0;34m,\u001b[0m \u001b[0mpopup\u001b[0m\u001b[0;34m=\u001b[0m\u001b[0;34m'<i> Camp Nou</i>'\u001b[0m\u001b[0;34m,\u001b[0m \u001b[0mtooltip\u001b[0m\u001b[0;34m=\u001b[0m\u001b[0mtooltip\u001b[0m\u001b[0;34m,\u001b[0m \u001b[0micon\u001b[0m\u001b[0;34m=\u001b[0m\u001b[0mfolium\u001b[0m\u001b[0;34m.\u001b[0m\u001b[0mIcon\u001b[0m\u001b[0;34m(\u001b[0m\u001b[0mcolor\u001b[0m\u001b[0;34m=\u001b[0m\u001b[0;34m'orange'\u001b[0m\u001b[0;34m,\u001b[0m \u001b[0micon\u001b[0m\u001b[0;34m=\u001b[0m\u001b[0;34m'info-sign'\u001b[0m\u001b[0;34m)\u001b[0m\u001b[0;34m)\u001b[0m\u001b[0;34m.\u001b[0m\u001b[0madd_to\u001b[0m\u001b[0;34m(\u001b[0m\u001b[0mm\u001b[0m\u001b[0;34m)\u001b[0m\u001b[0;34m\u001b[0m\u001b[0;34m\u001b[0m\u001b[0m\n\u001b[0m\u001b[1;32m      4\u001b[0m \u001b[0;34m\u001b[0m\u001b[0m\n\u001b[1;32m      5\u001b[0m \u001b[0mtooltip\u001b[0m \u001b[0;34m=\u001b[0m \u001b[0;34m\"Real Madrid C.F.\"\u001b[0m\u001b[0;34m\u001b[0m\u001b[0;34m\u001b[0m\u001b[0m\n",
      "\u001b[0;31mAttributeError\u001b[0m: module 'folium' has no attribute 'Marker'"
     ]
    }
   ],
   "source": [
    "# Plot Top 4 Teams in Spanish League for 2013-2014 season\n",
    "tooltip = \"FC Barcelona\"\n",
    "folium.Marker([41.3809, 2.1228], popup='<i> Camp Nou</i>', tooltip=tooltip, icon=folium.Icon(color='orange', icon='info-sign')).add_to(m)\n",
    "\n",
    "tooltip = \"Real Madrid C.F.\"\n",
    "folium.Marker([40.4530, -3.6883], popup='<i>Santiago Bernabeu </i>', tooltip=tooltip, icon=folium.Icon(color='orange', icon='info-sign')).add_to(m)\n",
    "\n",
    "tooltip = \"Atletico Madrid\"\n",
    "folium.Marker([40.4362, -3.5995], popup='<i> Wanda Metropolitano </i>', tooltip=tooltip, icon=folium.Icon(color='orange', icon='info-sign')).add_to(m)\n",
    "\n",
    "tooltip = \"Valencia CF\"\n",
    "folium.Marker([39.4747, -0.3586], popup='<i> Mestalla </i>', tooltip=tooltip, icon=folium.Icon(color='orange', icon='info-sign')).add_to(m)"
   ]
  },
  {
   "cell_type": "code",
   "execution_count": 8,
   "metadata": {},
   "outputs": [
    {
     "ename": "AttributeError",
     "evalue": "module 'folium' has no attribute 'Marker'",
     "output_type": "error",
     "traceback": [
      "\u001b[0;31m---------------------------------------------------------------------------\u001b[0m",
      "\u001b[0;31mAttributeError\u001b[0m                            Traceback (most recent call last)",
      "\u001b[0;32m<ipython-input-8-0f5541f76766>\u001b[0m in \u001b[0;36m<module>\u001b[0;34m\u001b[0m\n\u001b[1;32m      1\u001b[0m \u001b[0;31m# Plot Top 4 Teams in German League for 2013-2014 season\u001b[0m\u001b[0;34m\u001b[0m\u001b[0;34m\u001b[0m\u001b[0;34m\u001b[0m\u001b[0m\n\u001b[1;32m      2\u001b[0m \u001b[0mtooltip\u001b[0m \u001b[0;34m=\u001b[0m \u001b[0;34m\"FC Bayern Munich\"\u001b[0m\u001b[0;34m\u001b[0m\u001b[0;34m\u001b[0m\u001b[0m\n\u001b[0;32m----> 3\u001b[0;31m \u001b[0mfolium\u001b[0m\u001b[0;34m.\u001b[0m\u001b[0mMarker\u001b[0m\u001b[0;34m(\u001b[0m\u001b[0mlocation\u001b[0m\u001b[0;34m=\u001b[0m\u001b[0;34m[\u001b[0m\u001b[0;36m48.2188\u001b[0m\u001b[0;34m,\u001b[0m \u001b[0;36m11.6248\u001b[0m\u001b[0;34m]\u001b[0m\u001b[0;34m,\u001b[0m\u001b[0mpopup\u001b[0m\u001b[0;34m=\u001b[0m\u001b[0;34m'<i> Allianz Arena </i>'\u001b[0m\u001b[0;34m,\u001b[0m \u001b[0mtooltip\u001b[0m\u001b[0;34m=\u001b[0m\u001b[0mtooltip\u001b[0m\u001b[0;34m,\u001b[0m \u001b[0micon\u001b[0m\u001b[0;34m=\u001b[0m\u001b[0mfolium\u001b[0m\u001b[0;34m.\u001b[0m\u001b[0mIcon\u001b[0m\u001b[0;34m(\u001b[0m\u001b[0mcolor\u001b[0m\u001b[0;34m=\u001b[0m\u001b[0;34m'purple'\u001b[0m\u001b[0;34m,\u001b[0m \u001b[0micon\u001b[0m\u001b[0;34m=\u001b[0m\u001b[0;34m'info-sign'\u001b[0m\u001b[0;34m)\u001b[0m\u001b[0;34m)\u001b[0m\u001b[0;34m.\u001b[0m\u001b[0madd_to\u001b[0m\u001b[0;34m(\u001b[0m\u001b[0mm\u001b[0m\u001b[0;34m)\u001b[0m\u001b[0;34m\u001b[0m\u001b[0;34m\u001b[0m\u001b[0m\n\u001b[0m\u001b[1;32m      4\u001b[0m \u001b[0;34m\u001b[0m\u001b[0m\n\u001b[1;32m      5\u001b[0m \u001b[0mtooltip\u001b[0m \u001b[0;34m=\u001b[0m \u001b[0;34m\"VfL Wolfsburg\"\u001b[0m\u001b[0;34m\u001b[0m\u001b[0;34m\u001b[0m\u001b[0m\n",
      "\u001b[0;31mAttributeError\u001b[0m: module 'folium' has no attribute 'Marker'"
     ]
    }
   ],
   "source": [
    "# Plot Top 4 Teams in German League for 2013-2014 season\n",
    "tooltip = \"FC Bayern Munich\"\n",
    "folium.Marker(location=[48.2188, 11.6248],popup='<i> Allianz Arena </i>', tooltip=tooltip, icon=folium.Icon(color='purple', icon='info-sign')).add_to(m)\n",
    "\n",
    "tooltip = \"VfL Wolfsburg\"\n",
    "folium.Marker(location=[52.4327, 10.8039],popup='<i> Volkswagen Arena </i>', tooltip=tooltip, icon=folium.Icon(color='purple', icon='info-sign')).add_to(m)\n",
    "\n",
    "tooltip = \"Borussia Monchengladbach (M'Gladbach)\"\n",
    "folium.Marker(location=[51.1746, 6.3855],popup='<i> Borussia-Park </i>', tooltip=tooltip, icon=folium.Icon(color='purple', icon='info-sign')).add_to(m)\n",
    "\n",
    "tooltip = \"Bayer 04 Leverkusen\"\n",
    "folium.Marker(location=[51.0382, 7.0023],popup='<i> BayArena </i>', tooltip=tooltip, icon=folium.Icon(color='purple', icon='info-sign')).add_to(m)"
   ]
  },
  {
   "cell_type": "code",
   "execution_count": 9,
   "metadata": {},
   "outputs": [
    {
     "ename": "AttributeError",
     "evalue": "module 'folium' has no attribute 'Marker'",
     "output_type": "error",
     "traceback": [
      "\u001b[0;31m---------------------------------------------------------------------------\u001b[0m",
      "\u001b[0;31mAttributeError\u001b[0m                            Traceback (most recent call last)",
      "\u001b[0;32m<ipython-input-9-04ae4661b208>\u001b[0m in \u001b[0;36m<module>\u001b[0;34m\u001b[0m\n\u001b[1;32m      1\u001b[0m \u001b[0;31m# Plot Top 4 Teams in Italian League for 2013-2014 season\u001b[0m\u001b[0;34m\u001b[0m\u001b[0;34m\u001b[0m\u001b[0;34m\u001b[0m\u001b[0m\n\u001b[1;32m      2\u001b[0m \u001b[0mtooltip\u001b[0m \u001b[0;34m=\u001b[0m \u001b[0;34m\"Juventus F.C\"\u001b[0m\u001b[0;34m\u001b[0m\u001b[0;34m\u001b[0m\u001b[0m\n\u001b[0;32m----> 3\u001b[0;31m \u001b[0mfolium\u001b[0m\u001b[0;34m.\u001b[0m\u001b[0mMarker\u001b[0m\u001b[0;34m(\u001b[0m\u001b[0mlocation\u001b[0m\u001b[0;34m=\u001b[0m\u001b[0;34m[\u001b[0m\u001b[0;36m45.1096\u001b[0m\u001b[0;34m,\u001b[0m \u001b[0;36m7.6412\u001b[0m\u001b[0;34m]\u001b[0m\u001b[0;34m,\u001b[0m\u001b[0mpopup\u001b[0m\u001b[0;34m=\u001b[0m\u001b[0;34m'<i> Allianz Stadium </i>'\u001b[0m\u001b[0;34m,\u001b[0m \u001b[0mtooltip\u001b[0m\u001b[0;34m=\u001b[0m\u001b[0mtooltip\u001b[0m\u001b[0;34m,\u001b[0m \u001b[0micon\u001b[0m\u001b[0;34m=\u001b[0m\u001b[0mfolium\u001b[0m\u001b[0;34m.\u001b[0m\u001b[0mIcon\u001b[0m\u001b[0;34m(\u001b[0m\u001b[0mcolor\u001b[0m\u001b[0;34m=\u001b[0m\u001b[0;34m'green'\u001b[0m\u001b[0;34m,\u001b[0m \u001b[0micon\u001b[0m\u001b[0;34m=\u001b[0m\u001b[0;34m'info-sign'\u001b[0m\u001b[0;34m)\u001b[0m\u001b[0;34m)\u001b[0m\u001b[0;34m.\u001b[0m\u001b[0madd_to\u001b[0m\u001b[0;34m(\u001b[0m\u001b[0mm\u001b[0m\u001b[0;34m)\u001b[0m\u001b[0;34m\u001b[0m\u001b[0;34m\u001b[0m\u001b[0m\n\u001b[0m\u001b[1;32m      4\u001b[0m \u001b[0;34m\u001b[0m\u001b[0m\n\u001b[1;32m      5\u001b[0m \u001b[0mtooltip\u001b[0m \u001b[0;34m=\u001b[0m \u001b[0;34m\"A.S. Roma & SS Lazio\"\u001b[0m\u001b[0;34m\u001b[0m\u001b[0;34m\u001b[0m\u001b[0m\n",
      "\u001b[0;31mAttributeError\u001b[0m: module 'folium' has no attribute 'Marker'"
     ]
    }
   ],
   "source": [
    "# Plot Top 4 Teams in Italian League for 2013-2014 season\n",
    "tooltip = \"Juventus F.C\"\n",
    "folium.Marker(location=[45.1096, 7.6412],popup='<i> Allianz Stadium </i>', tooltip=tooltip, icon=folium.Icon(color='green', icon='info-sign')).add_to(m)\n",
    "\n",
    "tooltip = \"A.S. Roma & SS Lazio\"\n",
    "folium.Marker(location=[41.9341, 12.4547],popup='<i> Stadio Olimpico </i>', tooltip=tooltip, icon=folium.Icon(color='green', icon='info-sign')).add_to(m)\n",
    "\n",
    "tooltip = \"ACF Fiorentina\"\n",
    "folium.Marker(location=[43.7808, 11.2826],popup='<i> Stadio Artemio Franchi </i>', tooltip=tooltip, icon=folium.Icon(color='green', icon='info-sign')).add_to(m)"
   ]
  },
  {
   "cell_type": "code",
   "execution_count": 10,
   "metadata": {},
   "outputs": [
    {
     "ename": "NameError",
     "evalue": "name 'm' is not defined",
     "output_type": "error",
     "traceback": [
      "\u001b[0;31m---------------------------------------------------------------------------\u001b[0m",
      "\u001b[0;31mNameError\u001b[0m                                 Traceback (most recent call last)",
      "\u001b[0;32m<ipython-input-10-55328776268d>\u001b[0m in \u001b[0;36m<module>\u001b[0;34m\u001b[0m\n\u001b[1;32m      1\u001b[0m \u001b[0;31m# Show Map\u001b[0m\u001b[0;34m\u001b[0m\u001b[0;34m\u001b[0m\u001b[0;34m\u001b[0m\u001b[0m\n\u001b[0;32m----> 2\u001b[0;31m \u001b[0mm\u001b[0m\u001b[0;34m\u001b[0m\u001b[0;34m\u001b[0m\u001b[0m\n\u001b[0m",
      "\u001b[0;31mNameError\u001b[0m: name 'm' is not defined"
     ]
    }
   ],
   "source": [
    "# Show Map \n",
    "m"
   ]
  },
  {
   "cell_type": "code",
   "execution_count": null,
   "metadata": {},
   "outputs": [],
   "source": []
  }
 ],
 "metadata": {
  "kernelspec": {
   "display_name": "pyvizenv",
   "language": "python",
   "name": "pyvizenv"
  },
  "language_info": {
   "codemirror_mode": {
    "name": "ipython",
    "version": 3
   },
   "file_extension": ".py",
   "mimetype": "text/x-python",
   "name": "python",
   "nbconvert_exporter": "python",
   "pygments_lexer": "ipython3",
   "version": "3.8.3"
  }
 },
 "nbformat": 4,
 "nbformat_minor": 4
}
